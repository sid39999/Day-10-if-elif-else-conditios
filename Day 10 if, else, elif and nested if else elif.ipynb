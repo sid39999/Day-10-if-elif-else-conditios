{
 "cells": [
  {
   "cell_type": "markdown",
   "id": "70d9988a",
   "metadata": {},
   "source": [
    "#                            Welcome To Our Challenge \n",
    "                                    100 Days of Code Challenge\n",
    "   \n",
    "                        Challenge Accepted by YOUTUBER:   SANCHIT AGRAWAL"
   ]
  },
  {
   "cell_type": "raw",
   "id": "cfdd9d53",
   "metadata": {},
   "source": [
    "YOUTUBE CHANNEL Name: Sanchit Agrawal"
   ]
  },
  {
   "cell_type": "markdown",
   "id": "58548662",
   "metadata": {},
   "source": [
    "#                                           DAY 10\n",
    "                                         LET'S BEGIN"
   ]
  },
  {
   "cell_type": "markdown",
   "id": "f583e274",
   "metadata": {},
   "source": [
    "# Conditional Statements in python"
   ]
  },
  {
   "cell_type": "raw",
   "id": "89bfc56b",
   "metadata": {},
   "source": [
    "Conditional statements in Python are used to make decisions in your code based on whether certain conditions are true or false."
   ]
  },
  {
   "cell_type": "markdown",
   "id": "f23eb10a",
   "metadata": {},
   "source": [
    "# 1: if (अगर) Condition"
   ]
  },
  {
   "cell_type": "code",
   "execution_count": 21,
   "id": "a849e79c",
   "metadata": {},
   "outputs": [],
   "source": [
    "x = 4\n",
    "if x >= 5:\n",
    "    print('x is greater than 5')"
   ]
  },
  {
   "cell_type": "code",
   "execution_count": null,
   "id": "3f65a813",
   "metadata": {},
   "outputs": [],
   "source": []
  },
  {
   "cell_type": "markdown",
   "id": "c21f1602",
   "metadata": {},
   "source": [
    "# 2. if and else Condtions"
   ]
  },
  {
   "cell_type": "code",
   "execution_count": 26,
   "id": "7e47d585",
   "metadata": {},
   "outputs": [
    {
     "name": "stdout",
     "output_type": "stream",
     "text": [
      "x is not greater than 5\n"
     ]
    }
   ],
   "source": [
    "x = 6\n",
    "if x == 5:\n",
    "    print(\"x is = 5\")\n",
    "else:\n",
    "    print(\"x is not greater than 5\")"
   ]
  },
  {
   "cell_type": "code",
   "execution_count": null,
   "id": "c7661388",
   "metadata": {},
   "outputs": [],
   "source": []
  },
  {
   "cell_type": "markdown",
   "id": "556aa559",
   "metadata": {},
   "source": [
    "# 3. if, elif and else conditions"
   ]
  },
  {
   "cell_type": "code",
   "execution_count": 31,
   "id": "bd90a0e1",
   "metadata": {},
   "outputs": [
    {
     "name": "stdout",
     "output_type": "stream",
     "text": [
      "enter any no. 11\n",
      "negative\n"
     ]
    }
   ],
   "source": [
    "a = int(input('enter any no. '))\n",
    "if a>0 and a<10:\n",
    "    print('positive')\n",
    "elif a ==0:\n",
    "    print('zero')\n",
    "else:\n",
    "    print('negative')"
   ]
  },
  {
   "cell_type": "code",
   "execution_count": null,
   "id": "979dc016",
   "metadata": {},
   "outputs": [],
   "source": []
  },
  {
   "cell_type": "markdown",
   "id": "877b4602",
   "metadata": {},
   "source": [
    "# 4. nested if, elif and else Conditions"
   ]
  },
  {
   "cell_type": "raw",
   "id": "8d3ffc11",
   "metadata": {},
   "source": [
    "You can nest if-else statements by putting one inside another. This is useful when you need to check conditions within conditions."
   ]
  },
  {
   "cell_type": "code",
   "execution_count": 33,
   "id": "175ae878",
   "metadata": {},
   "outputs": [
    {
     "name": "stdout",
     "output_type": "stream",
     "text": [
      "enter any no. 11\n",
      "positive bigger than 10\n"
     ]
    }
   ],
   "source": [
    "a = int(input('enter any no. '))\n",
    "if a>0:\n",
    "    if a>0 and a<10:\n",
    "        print('positive but not greater than 10')\n",
    "    else:\n",
    "        print(\"positive bigger than 10\")\n",
    "elif a ==0:\n",
    "    print('zero')\n",
    "else:\n",
    "    print('negative')"
   ]
  },
  {
   "cell_type": "code",
   "execution_count": null,
   "id": "d6522cc1",
   "metadata": {},
   "outputs": [],
   "source": []
  },
  {
   "cell_type": "markdown",
   "id": "0a8330d1",
   "metadata": {},
   "source": [
    "# Bonus Condition"
   ]
  },
  {
   "cell_type": "code",
   "execution_count": 35,
   "id": "921232c5",
   "metadata": {},
   "outputs": [
    {
     "name": "stdout",
     "output_type": "stream",
     "text": [
      "enter any value: -1\n",
      "negative\n"
     ]
    }
   ],
   "source": [
    "x = int(input(\"enter any value: \"))\n",
    "result = \"positive\" if x>0 else \"negative\"\n",
    "print(result)"
   ]
  },
  {
   "cell_type": "code",
   "execution_count": null,
   "id": "34bad1fb",
   "metadata": {},
   "outputs": [],
   "source": []
  }
 ],
 "metadata": {
  "kernelspec": {
   "display_name": "Python 3 (ipykernel)",
   "language": "python",
   "name": "python3"
  },
  "language_info": {
   "codemirror_mode": {
    "name": "ipython",
    "version": 3
   },
   "file_extension": ".py",
   "mimetype": "text/x-python",
   "name": "python",
   "nbconvert_exporter": "python",
   "pygments_lexer": "ipython3",
   "version": "3.11.5"
  }
 },
 "nbformat": 4,
 "nbformat_minor": 5
}
